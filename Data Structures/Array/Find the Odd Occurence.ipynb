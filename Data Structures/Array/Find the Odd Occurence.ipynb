{
 "cells": [
  {
   "cell_type": "code",
   "execution_count": 2,
   "metadata": {},
   "outputs": [
    {
     "name": "stdout",
     "output_type": "stream",
     "text": [
      "1\n",
      "3\n",
      "4 4 4\n",
      "4\n"
     ]
    }
   ],
   "source": [
    "for _ in range(int(input())):\n",
    "    n = int(input())\n",
    "    arr = list(map(int, input().split()))\n",
    "    flg = False\n",
    "    dict1 = {}\n",
    "    for i in arr:\n",
    "        try:\n",
    "            dict1[i] = dict1[i] ^ 1\n",
    "        except:\n",
    "            dict1[i] = 1\n",
    "    \n",
    "    for i, j in dict1.items():\n",
    "        if j == 1:\n",
    "            print(i)\n",
    "            flg = True\n",
    "            \n",
    "    if not flg:\n",
    "        print(0)"
   ]
  }
 ],
 "metadata": {
  "kernelspec": {
   "display_name": "Python 3",
   "language": "python",
   "name": "python3"
  },
  "language_info": {
   "codemirror_mode": {
    "name": "ipython",
    "version": 3
   },
   "file_extension": ".py",
   "mimetype": "text/x-python",
   "name": "python",
   "nbconvert_exporter": "python",
   "pygments_lexer": "ipython3",
   "version": "3.6.5"
  }
 },
 "nbformat": 4,
 "nbformat_minor": 2
}
