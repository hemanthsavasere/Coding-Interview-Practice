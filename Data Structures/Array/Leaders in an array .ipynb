{
 "cells": [
  {
   "cell_type": "code",
   "execution_count": null,
   "metadata": {},
   "outputs": [],
   "source": [
    "n = int(input())\n",
    "    arr = list(map(int, input().split()))\n",
    "    maxi = arr[-1]\n",
    "    brr = []\n",
    "    for i in range(len(arr)-1, -1, -1):\n",
    "        if arr[i] >= maxi:\n",
    "            brr.insert(0, arr[i])\n",
    "            maxi = arr[i] \n",
    "    for i in range(len(brr)):\n",
    "        print(brr[i], end = \" \")\n",
    "    print()"
   ]
  }
 ],
 "metadata": {
  "kernelspec": {
   "display_name": "Python 3",
   "language": "python",
   "name": "python3"
  },
  "language_info": {
   "codemirror_mode": {
    "name": "ipython",
    "version": 3
   },
   "file_extension": ".py",
   "mimetype": "text/x-python",
   "name": "python",
   "nbconvert_exporter": "python",
   "pygments_lexer": "ipython3",
   "version": "3.6.5"
  }
 },
 "nbformat": 4,
 "nbformat_minor": 2
}
