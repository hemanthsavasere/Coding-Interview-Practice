{
 "cells": [
  {
   "cell_type": "code",
   "execution_count": null,
   "metadata": {},
   "outputs": [],
   "source": [
    " majority = {}\n",
    "    major = -1\n",
    "    k = int(input())\n",
    "    arr = list(map(int, input().split()))\n",
    "    for i in arr:\n",
    "        try:\n",
    "            majority[i] += 1 \n",
    "        except:\n",
    "            majority[i] = 1\n",
    "    \n",
    "    for i in majority:\n",
    "        if majority[i] > k//2:\n",
    "            major = i\n",
    "            break\n",
    "    \n",
    "    print(major)"
   ]
  }
 ],
 "metadata": {
  "kernelspec": {
   "display_name": "Python 3",
   "language": "python",
   "name": "python3"
  },
  "language_info": {
   "codemirror_mode": {
    "name": "ipython",
    "version": 3
   },
   "file_extension": ".py",
   "mimetype": "text/x-python",
   "name": "python",
   "nbconvert_exporter": "python",
   "pygments_lexer": "ipython3",
   "version": "3.6.5"
  }
 },
 "nbformat": 4,
 "nbformat_minor": 2
}
