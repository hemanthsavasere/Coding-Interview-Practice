{
 "cells": [
  {
   "cell_type": "code",
   "execution_count": 13,
   "metadata": {},
   "outputs": [
    {
     "name": "stdout",
     "output_type": "stream",
     "text": [
      "2 3 4 5 \n",
      "3 4 5 \n",
      "4 5 \n"
     ]
    }
   ],
   "source": [
    "class Node(object):\n",
    "    def __init__(self, val):\n",
    "        self.data = val\n",
    "        self.next = None\n",
    "\n",
    "class LinkedList(object):\n",
    "    def __init__(self):\n",
    "        self.head = None\n",
    "        \n",
    "    def delete_a_node_at_a_given_key(self, key):\n",
    "        if key == self.head.data:\n",
    "            self.head = self.head.next\n",
    "        else:\n",
    "            curr = self.head\n",
    "            prev = None\n",
    "            while curr and curr.data != key:\n",
    "                prev = curr\n",
    "                curr = curr.next\n",
    "            if curr:\n",
    "                prev.next = curr.next\n",
    "                \n",
    "    def delete_a_node_at_a_given_position(self, pos):\n",
    "        if pos == 1:\n",
    "            self.head = self.head.next\n",
    "        else:\n",
    "            curr = self.head\n",
    "            prev = None\n",
    "            cnt = 1\n",
    "            while curr and cnt != pos:\n",
    "                prev = curr\n",
    "                curr = curr.next\n",
    "                cnt += 1\n",
    "            prev.next = curr.next\n",
    "                \n",
    "        \n",
    "    def traverse(self):\n",
    "        temp = self.head \n",
    "        while temp:\n",
    "            print(temp.data, end = \" \")\n",
    "            temp = temp.next\n",
    "        print()\n",
    "        \n",
    "n1 = Node(1)\n",
    "n2 = Node(2)\n",
    "n3 = Node(3)\n",
    "n4 = Node(4)\n",
    "n5 = Node(5)\n",
    "l1 = LinkedList()\n",
    "l1.head = n1\n",
    "n1.next = n2\n",
    "n2.next = n3\n",
    "n3.next = n4\n",
    "n4.next = n5\n",
    "\n",
    "l1.delete_a_node_at_a_given_key(1)\n",
    "l1.traverse()\n",
    "l1.delete_a_node_at_a_given_key(2)\n",
    "l1.traverse()\n",
    "l1.delete_a_node_at_a_given_position(1)\n",
    "l1.traverse()"
   ]
  }
 ],
 "metadata": {
  "kernelspec": {
   "display_name": "Python 3",
   "language": "python",
   "name": "python3"
  },
  "language_info": {
   "codemirror_mode": {
    "name": "ipython",
    "version": 3
   },
   "file_extension": ".py",
   "mimetype": "text/x-python",
   "name": "python",
   "nbconvert_exporter": "python",
   "pygments_lexer": "ipython3",
   "version": "3.6.5"
  }
 },
 "nbformat": 4,
 "nbformat_minor": 2
}
