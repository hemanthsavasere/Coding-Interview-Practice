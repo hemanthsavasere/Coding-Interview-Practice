{
 "cells": [
  {
   "cell_type": "code",
   "execution_count": 28,
   "metadata": {},
   "outputs": [
    {
     "name": "stdout",
     "output_type": "stream",
     "text": [
      "4\n"
     ]
    }
   ],
   "source": [
    "# Recursive way to find length of Linkedlist\n",
    "class Node(object):\n",
    "    def __init__(self, val):\n",
    "        self.data = val\n",
    "        self.next = None\n",
    "\n",
    "class LinkedList(object):\n",
    "    def __init__(self):\n",
    "        self.head = None\n",
    "\n",
    "    \n",
    "    def length(self, node):\n",
    "        if node == None:\n",
    "            return 0\n",
    "        else:\n",
    "            return 1 + self.length(node.next)\n",
    "\n",
    "l1 = LinkedList()\n",
    "\n",
    "n1 = Node(1)\n",
    "n2 = Node(2)\n",
    "n3 = Node(3)\n",
    "n4 = Node(4)\n",
    "\n",
    "n1.next = n2\n",
    "n2.next = n3\n",
    "n3.next = n4\n",
    "\n",
    "l1.head = n1\n",
    "\n",
    "print(l1.length(l1.head))\n",
    "\n"
   ]
  }
 ],
 "metadata": {
  "kernelspec": {
   "display_name": "Python 3",
   "language": "python",
   "name": "python3"
  },
  "language_info": {
   "codemirror_mode": {
    "name": "ipython",
    "version": 3
   },
   "file_extension": ".py",
   "mimetype": "text/x-python",
   "name": "python",
   "nbconvert_exporter": "python",
   "pygments_lexer": "ipython3",
   "version": "3.6.5"
  }
 },
 "nbformat": 4,
 "nbformat_minor": 2
}
