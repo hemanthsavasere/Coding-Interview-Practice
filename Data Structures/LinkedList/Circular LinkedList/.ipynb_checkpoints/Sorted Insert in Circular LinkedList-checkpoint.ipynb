{
 "cells": [
  {
   "cell_type": "code",
   "execution_count": 19,
   "metadata": {
    "scrolled": true
   },
   "outputs": [
    {
     "name": "stdout",
     "output_type": "stream",
     "text": [
      "1 2 3 4 7 10 \n",
      "1 2 3 4 7 9 10 \n",
      "0 1 2 3 4 5 7 9 10 \n"
     ]
    }
   ],
   "source": [
    "class Node(object):\n",
    "    def __init__(self, val):\n",
    "        self.data = val\n",
    "        self.next = None\n",
    "        \n",
    "class CircularLinkedlist:\n",
    "    def __init__(self):\n",
    "        self.head = None\n",
    "        \n",
    "    def sorted_insert(self, val):\n",
    "        if self.head == None:\n",
    "            self.head = Node(val)\n",
    "            \n",
    "        elif val < self.head.data:\n",
    "            temp = self.head.next\n",
    "            k = Node(self.head.data)\n",
    "            self.head.next = k\n",
    "            k.next = temp\n",
    "            self.head.data = val\n",
    "            \n",
    "        else:\n",
    "            curr = self.head.next\n",
    "            prev = None\n",
    "            if val < curr.data:\n",
    "                temp = self.head.next\n",
    "                k = Node(curr.data)\n",
    "                self.head.next = k\n",
    "                k.next = temp\n",
    "            while curr and curr != self.head and val >= curr.data :\n",
    "                prev = curr\n",
    "                curr = curr.next\n",
    "            k = Node(val)\n",
    "            prev.next = k\n",
    "            k.next = curr \n",
    "            \n",
    "            \n",
    "    def traverse(self):\n",
    "        print(self.head.data, end=\" \")\n",
    "        temp = self.head.next\n",
    "        while temp and temp != self.head:\n",
    "            print(temp.data, end = \" \")\n",
    "            temp = temp.next\n",
    "        print()\n",
    "            \n",
    "c1 = CircularLinkedlist()\n",
    "k1 = Node(1)\n",
    "k2 = Node(2)\n",
    "k3 = Node(3)\n",
    "k4 = Node(4)\n",
    "k5 = Node(7)\n",
    "k6 = Node(10)\n",
    "\n",
    "c1.head = k1\n",
    "\n",
    "k1.next = k2\n",
    "k2.next = k3\n",
    "k3.next = k4\n",
    "k4.next = k5\n",
    "k5.next = k6\n",
    "k6.next = c1.head\n",
    "            \n",
    "c1.traverse()\n",
    "c1.sorted_insert(9)\n",
    "c1.traverse()\n",
    "c1.sorted_insert(5)\n",
    "c1.sorted_insert(0)\n",
    "c1.traverse()"
   ]
  }
 ],
 "metadata": {
  "kernelspec": {
   "display_name": "Python 3",
   "language": "python",
   "name": "python3"
  },
  "language_info": {
   "codemirror_mode": {
    "name": "ipython",
    "version": 3
   },
   "file_extension": ".py",
   "mimetype": "text/x-python",
   "name": "python",
   "nbconvert_exporter": "python",
   "pygments_lexer": "ipython3",
   "version": "3.6.5"
  }
 },
 "nbformat": 4,
 "nbformat_minor": 2
}
