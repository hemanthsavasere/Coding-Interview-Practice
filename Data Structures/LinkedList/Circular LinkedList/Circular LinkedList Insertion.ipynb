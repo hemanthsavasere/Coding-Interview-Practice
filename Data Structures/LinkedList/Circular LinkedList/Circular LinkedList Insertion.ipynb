{
 "cells": [
  {
   "cell_type": "code",
   "execution_count": 43,
   "metadata": {
    "scrolled": true
   },
   "outputs": [
    {
     "name": "stdout",
     "output_type": "stream",
     "text": [
      "0 1 2 3 \n"
     ]
    }
   ],
   "source": [
    "class Node(object):\n",
    "    def __init__(self, val):\n",
    "        self.data = val\n",
    "        self.next = None\n",
    "        \n",
    "class CircularLinkedlist:\n",
    "    def __init__(self):\n",
    "        self.head = None\n",
    "    \n",
    "\n",
    "    def insert_beginning(self, val):\n",
    "        if self.head == None:\n",
    "            self.head = Node(val)\n",
    "            self.head.next = self.head\n",
    "    \n",
    "        else:\n",
    "            temp = self.head.next\n",
    "            k = Node(self.head.data)\n",
    "            self.head.next = k\n",
    "            k.next = temp\n",
    "            self.head.data = val\n",
    "            \n",
    "    def insert_at_end(self, val):\n",
    "        \n",
    "    \n",
    "    def traverse(self):\n",
    "        print(self.head.data, end=\" \")\n",
    "        temp = self.head.next\n",
    "        while temp and temp != self.head:\n",
    "            print(temp.data, end = \" \")\n",
    "            temp = temp.next\n",
    "        print()\n",
    "        \n",
    "\n",
    "    \n",
    "        \n",
    "\n",
    "cl1 = CircularLinkedlist()\n",
    "cl1.insert_beginning(3)\n",
    "cl1.insert_beginning(2)\n",
    "cl1.insert_beginning(1)\n",
    "cl1.insert_beginning(0)\n",
    "cl1.traverse()\n",
    "            \n",
    "        "
   ]
  }
 ],
 "metadata": {
  "kernelspec": {
   "display_name": "Python 3",
   "language": "python",
   "name": "python3"
  },
  "language_info": {
   "codemirror_mode": {
    "name": "ipython",
    "version": 3
   },
   "file_extension": ".py",
   "mimetype": "text/x-python",
   "name": "python",
   "nbconvert_exporter": "python",
   "pygments_lexer": "ipython3",
   "version": "3.6.5"
  }
 },
 "nbformat": 4,
 "nbformat_minor": 2
}
