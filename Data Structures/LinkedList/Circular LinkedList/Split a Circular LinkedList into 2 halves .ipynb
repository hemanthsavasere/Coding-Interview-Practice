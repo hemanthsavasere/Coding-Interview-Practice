{
 "cells": [
  {
   "cell_type": "code",
   "execution_count": 48,
   "metadata": {},
   "outputs": [
    {
     "name": "stdout",
     "output_type": "stream",
     "text": [
      "1 2 3 4 5 6 \n",
      "1 2 3 \n",
      "4 5 6 \n"
     ]
    }
   ],
   "source": [
    "class Node(object):\n",
    "    def __init__(self, val):\n",
    "        self.data = val\n",
    "        self.next = None\n",
    "        \n",
    "class CircularLinkedlist:\n",
    "    def __init__(self):\n",
    "        self.head = None\n",
    "        \n",
    "    def traverse(self):\n",
    "        print(self.head.data, end=\" \")\n",
    "        temp = self.head.next\n",
    "        while temp and temp != self.head:\n",
    "            print(temp.data, end = \" \")\n",
    "            temp = temp.next\n",
    "        print()\n",
    "        \n",
    "    \n",
    "    def split(self):\n",
    "        cnt = 1\n",
    "        temp = self.head.next\n",
    "        while temp and temp != self.head:\n",
    "            cnt += 1\n",
    "            temp = temp.next \n",
    "        cnt1 = cnt // 2 + (cnt % 2)\n",
    "        cnt2 = cnt - cnt1\n",
    "        \n",
    "        cl1 = CircularLinkedlist()\n",
    "        cl1.head = self.head\n",
    "        temp = self.head\n",
    "        \n",
    "        while cnt1 > 0:\n",
    "            cnt1 -=1\n",
    "            if cnt1 == 0:\n",
    "                break\n",
    "            temp = temp.next\n",
    "        \n",
    "        cl2 = CircularLinkedlist()\n",
    "        cl2.head = temp.next\n",
    "\n",
    "        temp.next = cl1.head\n",
    "        \n",
    "        temp = cl2.head\n",
    "        while cnt2 > 0:\n",
    "            cnt2 -=1\n",
    "            if cnt2 == 0:\n",
    "                break\n",
    "            temp = temp.next\n",
    "        temp.next = cl2.head \n",
    "            \n",
    "        return cl1, cl2\n",
    "        \n",
    "           \n",
    "        \n",
    "    \n",
    "c1 = CircularLinkedlist()\n",
    "k1 = Node(1)\n",
    "k2 = Node(2)\n",
    "k3 = Node(3)\n",
    "k4 = Node(4)\n",
    "k5 = Node(5)\n",
    "k6 = Node(6)\n",
    "\n",
    "k1.next = k2\n",
    "k2.next = k3\n",
    "k3.next = k4\n",
    "k4.next = k5\n",
    "k5.next = k6\n",
    "k6.next = c1.head\n",
    "\n",
    "c1.head = k1\n",
    "c1.traverse()\n",
    "cl_split_1, cl_split_2 = c1.split()\n",
    "cl_split_1.traverse()\n",
    "cl_split_2.traverse()\n"
   ]
  }
 ],
 "metadata": {
  "kernelspec": {
   "display_name": "Python 3",
   "language": "python",
   "name": "python3"
  },
  "language_info": {
   "codemirror_mode": {
    "name": "ipython",
    "version": 3
   },
   "file_extension": ".py",
   "mimetype": "text/x-python",
   "name": "python",
   "nbconvert_exporter": "python",
   "pygments_lexer": "ipython3",
   "version": "3.6.5"
  }
 },
 "nbformat": 4,
 "nbformat_minor": 2
}
