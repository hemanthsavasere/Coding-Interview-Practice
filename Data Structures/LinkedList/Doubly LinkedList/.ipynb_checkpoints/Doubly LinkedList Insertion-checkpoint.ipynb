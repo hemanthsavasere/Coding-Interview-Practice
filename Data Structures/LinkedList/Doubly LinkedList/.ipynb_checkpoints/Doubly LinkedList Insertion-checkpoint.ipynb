{
 "cells": [
  {
   "cell_type": "code",
   "execution_count": 6,
   "metadata": {},
   "outputs": [],
   "source": [
    "class Node(object):\n",
    "    def __init__(self, val):\n",
    "        self.next = None\n",
    "        self.prev = None\n",
    "        self.data = val\n",
    "        \n",
    "class DoublyLinkedlist(object):\n",
    "    def __init__(self):\n",
    "        self.head = None\n",
    "    \n",
    "    def traverse(self):\n",
    "        temp = self.head\n",
    "        while temp:\n",
    "            print(temp.data)\n",
    "            temp = temp.next\n",
    "            \n",
    "\n",
    "dll1 = DoublyLinkedlist()\n",
    "n1 = Node(1)\n",
    "n2 = Node(2)\n",
    "n3 = Node(3)\n",
    "n4 = Node(4)\n",
    "\n",
    "n1.next = n2\n",
    "n2.prev = n1\n",
    "n2.next = n3\n",
    "n3.prev = n2\n",
    "n3.next = n4\n",
    "n4.prev = n3\n",
    "\n",
    "dll1.traverse()\n",
    "\n"
   ]
  }
 ],
 "metadata": {
  "kernelspec": {
   "display_name": "Python 3",
   "language": "python",
   "name": "python3"
  },
  "language_info": {
   "codemirror_mode": {
    "name": "ipython",
    "version": 3
   },
   "file_extension": ".py",
   "mimetype": "text/x-python",
   "name": "python",
   "nbconvert_exporter": "python",
   "pygments_lexer": "ipython3",
   "version": "3.6.5"
  }
 },
 "nbformat": 4,
 "nbformat_minor": 2
}
