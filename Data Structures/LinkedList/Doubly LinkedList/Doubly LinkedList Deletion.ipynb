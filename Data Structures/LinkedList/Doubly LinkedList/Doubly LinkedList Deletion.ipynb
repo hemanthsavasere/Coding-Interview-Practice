{
 "cells": [
  {
   "cell_type": "code",
   "execution_count": 6,
   "metadata": {
    "scrolled": true
   },
   "outputs": [
    {
     "name": "stdout",
     "output_type": "stream",
     "text": [
      "1 2 3 4 \n",
      "1 2 4 \n"
     ]
    }
   ],
   "source": [
    "class Node(object):\n",
    "    def __init__(self, val):\n",
    "        self.next = None\n",
    "        self.prev = None\n",
    "        self.data = val\n",
    "        \n",
    "class DoublyLinkedlist(object):\n",
    "    def __init__(self):\n",
    "        self.head = None\n",
    "    \n",
    "    def traverse(self):\n",
    "        temp = self.head\n",
    "        while temp:\n",
    "            print(temp.data, end = \" \")\n",
    "            temp = temp.next\n",
    "        print()\n",
    "        \n",
    "    def delete(self, key):\n",
    "        if self.head == None:\n",
    "            print(\"List is empty, cannot delete anything\")\n",
    "        else:\n",
    "            if key <= self.head.data:\n",
    "                self.head = self.head.next\n",
    "                \n",
    "            else:\n",
    "                prev = None\n",
    "                temp = self.head\n",
    "                \n",
    "                while temp and temp.data != key:\n",
    "                    prev = temp\n",
    "                    temp = temp.next\n",
    "                    \n",
    "                if temp == None:\n",
    "                    print(\"Key Not found\")\n",
    "                    return None\n",
    "                \n",
    "                else:\n",
    "                    prev.next = temp.next\n",
    "                    temp.next.prev = prev\n",
    "                    \n",
    "                \n",
    "dll1 = DoublyLinkedlist()\n",
    "n1 = Node(1)\n",
    "n2 = Node(2)\n",
    "n3 = Node(3)\n",
    "n4 = Node(4)\n",
    "\n",
    "\n",
    "n1.next = n2\n",
    "n2.prev = n1\n",
    "n2.next = n3\n",
    "n3.prev = n2\n",
    "n3.next = n4\n",
    "n4.prev = n3\n",
    "\n",
    "dll1.head = n1\n",
    "dll1.traverse()\n",
    "dll1.delete(3)\n",
    "dll1.traverse()\n",
    "dll1.delete(1)\n",
    "dll1\n",
    "        "
   ]
  }
 ],
 "metadata": {
  "kernelspec": {
   "display_name": "Python 3",
   "language": "python",
   "name": "python3"
  },
  "language_info": {
   "codemirror_mode": {
    "name": "ipython",
    "version": 3
   },
   "file_extension": ".py",
   "mimetype": "text/x-python",
   "name": "python",
   "nbconvert_exporter": "python",
   "pygments_lexer": "ipython3",
   "version": "3.6.5"
  }
 },
 "nbformat": 4,
 "nbformat_minor": 2
}
