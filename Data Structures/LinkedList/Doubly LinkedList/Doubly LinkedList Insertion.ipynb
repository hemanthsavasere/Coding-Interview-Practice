{
 "cells": [
  {
   "cell_type": "code",
   "execution_count": 23,
   "metadata": {},
   "outputs": [
    {
     "name": "stdout",
     "output_type": "stream",
     "text": [
      "1 2 3 10 \n",
      "3\n",
      "1 2 3 5 10 \n",
      "10\n",
      "1 2 3 5 10 11 \n"
     ]
    }
   ],
   "source": [
    "class Node(object):\n",
    "    def __init__(self, val):\n",
    "        self.next = None\n",
    "        self.prev = None\n",
    "        self.data = val\n",
    "        \n",
    "class DoublyLinkedlist(object):\n",
    "    def __init__(self):\n",
    "        self.head = None\n",
    "    \n",
    "    def traverse(self):\n",
    "        temp = self.head\n",
    "        while temp:\n",
    "            print(temp.data, end = \" \")\n",
    "            temp = temp.next\n",
    "        print()\n",
    "        \n",
    "    def insert(self, val):\n",
    "        if not self.head:\n",
    "            self.head = Node(val)\n",
    "            \n",
    "        elif val < self.head.data:\n",
    "            k = Node(val)\n",
    "            k.next = self.head\n",
    "            self.head.prev = k\n",
    "            self.head = k\n",
    "            \n",
    "        else:\n",
    "            temp = self.head\n",
    "            prev = None\n",
    "            while temp and val > temp.data:\n",
    "                prev = temp\n",
    "                temp = temp.next\n",
    "            print(prev.data)\n",
    "            \n",
    "            if temp == None:\n",
    "                k = Node(val)\n",
    "                prev.next = k\n",
    "                k.prev = prev\n",
    "            \n",
    "            else:\n",
    "                k = Node(val)\n",
    "                prev.next = k\n",
    "                k.prev = prev\n",
    "                k.next = temp\n",
    "                temp.prev = k\n",
    "                \n",
    "                \n",
    "            \n",
    "\n",
    "dll1 = DoublyLinkedlist()\n",
    "n1 = Node(1)\n",
    "n2 = Node(2)\n",
    "n3 = Node(3)\n",
    "n4 = Node(10)\n",
    "\n",
    "\n",
    "n1.next = n2\n",
    "n2.prev = n1\n",
    "n2.next = n3\n",
    "n3.prev = n2\n",
    "n3.next = n4\n",
    "n4.prev = n3\n",
    "\n",
    "dll1.head = n1\n",
    "dll1.traverse()\n",
    "dll1.insert(5)\n",
    "dll1.traverse()\n",
    "dll1.insert(11)\n",
    "dll1.traverse()\n"
   ]
  }
 ],
 "metadata": {
  "kernelspec": {
   "display_name": "Python 3",
   "language": "python",
   "name": "python3"
  },
  "language_info": {
   "codemirror_mode": {
    "name": "ipython",
    "version": 3
   },
   "file_extension": ".py",
   "mimetype": "text/x-python",
   "name": "python",
   "nbconvert_exporter": "python",
   "pygments_lexer": "ipython3",
   "version": "3.6.5"
  }
 },
 "nbformat": 4,
 "nbformat_minor": 2
}
