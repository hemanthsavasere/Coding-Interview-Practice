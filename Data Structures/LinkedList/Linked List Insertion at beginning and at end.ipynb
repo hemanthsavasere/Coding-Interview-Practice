{
 "cells": [
  {
   "cell_type": "code",
   "execution_count": 8,
   "metadata": {},
   "outputs": [
    {
     "name": "stdout",
     "output_type": "stream",
     "text": [
      "1 2 3 4 5 7 "
     ]
    }
   ],
   "source": [
    "class Node(object):\n",
    "    def __init__(self, val):\n",
    "        self.data = val\n",
    "        self.next = None\n",
    "\n",
    "class LinkedList(object):\n",
    "    def __init__(self):\n",
    "        self.head = None\n",
    "    \n",
    "    def insert_at_beginning(self, val):\n",
    "        if self.head == None:\n",
    "            n1 = Node(val)\n",
    "            self.head = n1\n",
    "        \n",
    "        else:\n",
    "            n2 = Node(val)\n",
    "            n2.next = self.head\n",
    "            self.head = n2\n",
    "    \n",
    "    def insert_at_end(self, val):\n",
    "        if self.head == None:\n",
    "            new_node = Node(val)\n",
    "            self.head = new_node \n",
    "            \n",
    "        else:    \n",
    "            temp = self.head\n",
    "            new_node = Node(val)\n",
    "            while temp.next:\n",
    "                temp = temp.next\n",
    "            temp.next = new_node\n",
    "         \n",
    "    \n",
    "    def traverse(self):\n",
    "        temp = self.head\n",
    "        \n",
    "        while temp:\n",
    "            print(temp.data, end = \" \")\n",
    "            temp = temp.next\n",
    "            \n",
    "    \n",
    "\n",
    "L1 = LinkedList()\n",
    "L1.insert_at_beginning(3)\n",
    "L1.insert_at_beginning(2)\n",
    "L1.insert_at_beginning(1)\n",
    "L1.insert_at_end(4)\n",
    "L1.insert_at_end(5)\n",
    "L1.insert_at_end(7)\n",
    "L1.traverse()"
   ]
  }
 ],
 "metadata": {
  "kernelspec": {
   "display_name": "Python 3",
   "language": "python",
   "name": "python3"
  },
  "language_info": {
   "codemirror_mode": {
    "name": "ipython",
    "version": 3
   },
   "file_extension": ".py",
   "mimetype": "text/x-python",
   "name": "python",
   "nbconvert_exporter": "python",
   "pygments_lexer": "ipython3",
   "version": "3.6.5"
  }
 },
 "nbformat": 4,
 "nbformat_minor": 2
}
