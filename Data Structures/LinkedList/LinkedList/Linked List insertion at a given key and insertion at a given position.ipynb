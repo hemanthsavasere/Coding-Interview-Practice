{
 "cells": [
  {
   "cell_type": "code",
   "execution_count": 15,
   "metadata": {},
   "outputs": [
    {
     "name": "stdout",
     "output_type": "stream",
     "text": [
      "1 \n",
      "1 3 \n",
      "1 2 3 \n"
     ]
    }
   ],
   "source": [
    "class Node(object):\n",
    "    def __init__(self, val):\n",
    "        self.data = val\n",
    "        self.next = None\n",
    "        \n",
    "class LinkedList(object):\n",
    "    def __init__(self):\n",
    "        self.head = None\n",
    "    \n",
    "    def insert_after_a_given_key(self, key, val):\n",
    "        if not self.head:\n",
    "            new_node = Node(val)\n",
    "            self.head = new_node\n",
    "            \n",
    "        else:\n",
    "            temp = self.head\n",
    "            new_node = Node(val)\n",
    "            while temp.next and temp.data != key:\n",
    "                temp = temp.next\n",
    "            k = temp.next\n",
    "            temp.next = new_node\n",
    "            new_node.next = k\n",
    "            \n",
    "    def insert_before_a_given_key(self, key, val):\n",
    "        if not self.head:\n",
    "            new_node = Node(val)\n",
    "            self.head = new_node\n",
    "        \n",
    "        else:\n",
    "            curr = self.head\n",
    "            prev = None\n",
    "            while curr.next and curr.data != key:\n",
    "                prev = curr\n",
    "                curr = curr.next\n",
    "            new_node = Node(val)\n",
    "            prev.next = new_node\n",
    "            new_node.next = curr\n",
    "    \n",
    "    def traverse(self):\n",
    "        temp = self.head\n",
    "        while temp:\n",
    "            print (temp.data, end = \" \")\n",
    "            temp = temp.next\n",
    "        print()\n",
    "\n",
    "l1 = LinkedList()\n",
    "l1.insert_after_a_given_key(10,1)\n",
    "l1.traverse()\n",
    "l1.insert_after_a_given_key(10,3)\n",
    "l1.traverse()\n",
    "l1.insert_before_a_given_key(3,2)\n",
    "l1.traverse()"
   ]
  }
 ],
 "metadata": {
  "kernelspec": {
   "display_name": "Python 3",
   "language": "python",
   "name": "python3"
  },
  "language_info": {
   "codemirror_mode": {
    "name": "ipython",
    "version": 3
   },
   "file_extension": ".py",
   "mimetype": "text/x-python",
   "name": "python",
   "nbconvert_exporter": "python",
   "pygments_lexer": "ipython3",
   "version": "3.6.5"
  }
 },
 "nbformat": 4,
 "nbformat_minor": 2
}
