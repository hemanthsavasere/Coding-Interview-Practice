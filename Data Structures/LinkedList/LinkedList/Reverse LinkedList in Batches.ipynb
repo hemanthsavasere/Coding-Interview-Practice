{
 "cells": [
  {
   "cell_type": "code",
   "execution_count": 4,
   "metadata": {},
   "outputs": [
    {
     "name": "stdout",
     "output_type": "stream",
     "text": [
      "1 2 3 6 \n",
      "3 2 1 6 \n"
     ]
    }
   ],
   "source": [
    "class Node(object):\n",
    "    def __init__(self, val):\n",
    "        self.data = val\n",
    "        self.next = None\n",
    "\n",
    "class LinkedList(object):\n",
    "    def __init__(self):\n",
    "        self.head = None\n",
    "    \n",
    "    def get_head(self):\n",
    "        return self.head.data\n",
    " \n",
    "    def traverse(self):\n",
    "        temp = self.head\n",
    "        while temp:\n",
    "            print (temp.data, end = \" \")\n",
    "            temp = temp.next\n",
    "        print()\n",
    "            \n",
    "    def reverse(self, head, k):\n",
    "        curr = head\n",
    "        prev = None\n",
    "        next = None\n",
    "        cnt = 0\n",
    "        \n",
    "        while curr and cnt < k:\n",
    "            next = curr.next\n",
    "            curr.next = prev\n",
    "            prev = curr\n",
    "            curr = next\n",
    "            cnt += 1\n",
    "        \n",
    "        if next != None :\n",
    "            head.next = self.reverse(next, k)\n",
    "            \n",
    "        return prev\n",
    "    \n",
    "L1 = LinkedList()\n",
    "\n",
    "n1 = Node(1)\n",
    "n2 = Node(2)\n",
    "n3 = Node(3)\n",
    "n4 = Node(6)\n",
    "\n",
    "L1.head = n1\n",
    "n1.next = n2\n",
    "n2.next = n3\n",
    "n3.next = n4\n",
    "\n",
    "L1.traverse()\n",
    "L1.head = L1.reverse(L1.head, 3)\n",
    "L1.traverse()"
   ]
  }
 ],
 "metadata": {
  "kernelspec": {
   "display_name": "Python 3",
   "language": "python",
   "name": "python3"
  },
  "language_info": {
   "codemirror_mode": {
    "name": "ipython",
    "version": 3
   },
   "file_extension": ".py",
   "mimetype": "text/x-python",
   "name": "python",
   "nbconvert_exporter": "python",
   "pygments_lexer": "ipython3",
   "version": "3.6.5"
  }
 },
 "nbformat": 4,
 "nbformat_minor": 2
}
