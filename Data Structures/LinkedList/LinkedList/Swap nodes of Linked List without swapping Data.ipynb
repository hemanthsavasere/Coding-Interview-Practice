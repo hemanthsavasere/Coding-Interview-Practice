{
 "cells": [
  {
   "cell_type": "code",
   "execution_count": 23,
   "metadata": {},
   "outputs": [
    {
     "name": "stdout",
     "output_type": "stream",
     "text": [
      "1 2 5 4 3 "
     ]
    }
   ],
   "source": [
    "class Node(object):\n",
    "    def __init__(self, val):\n",
    "        self.data = val\n",
    "        self.next = None\n",
    "        \n",
    "class LinkedList(object):\n",
    "    def __init__(self):\n",
    "        self.head = None\n",
    "\n",
    "        \n",
    "    def swap_nodes(self, node1, node2):\n",
    "        \n",
    "        if node1.data == node2.data:\n",
    "            return\n",
    "        \n",
    "        prevX, currX = None, self.head\n",
    "        prevY, currY = None, self.head\n",
    "        while currX and node1.data != currX.data:\n",
    "            prevX = currX\n",
    "            currX = currX.next\n",
    "        while currY and node2.data != currY.data:\n",
    "            prevY = currY\n",
    "            currY = currY.next\n",
    "      \n",
    "        # head of node\n",
    "        if prevX != None:\n",
    "            prevX.next = currY\n",
    "        else:\n",
    "            self.head = currY\n",
    "        \n",
    "        # head of node \n",
    "        if prevY != None:\n",
    "            prevY.next = currX\n",
    "        else:\n",
    "            prevY.next = currX\n",
    "        \n",
    "        temp = currX.next\n",
    "        currX.next = currY.next\n",
    "        currY.next = temp\n",
    "        \n",
    "    \n",
    "    def traverse(self):\n",
    "        temp = self.head\n",
    "        while temp:\n",
    "            print (temp.data, end = \" \")\n",
    "            temp = temp.next\n",
    "\n",
    "            \n",
    "l1 = LinkedList()\n",
    "            \n",
    "n1 = Node(1)\n",
    "n2 = Node(2)\n",
    "n3 = Node(3)\n",
    "n4 = Node(4)\n",
    "n5 = Node(5)\n",
    "\n",
    "n1.next = n2\n",
    "n2.next = n3\n",
    "n3.next = n4\n",
    "n4.next = n5\n",
    "\n",
    "l1.head = n1\n",
    "l1.swap_nodes(n3, n5)\n",
    "l1.traverse()\n",
    "\n"
   ]
  }
 ],
 "metadata": {
  "kernelspec": {
   "display_name": "Python 3",
   "language": "python",
   "name": "python3"
  },
  "language_info": {
   "codemirror_mode": {
    "name": "ipython",
    "version": 3
   },
   "file_extension": ".py",
   "mimetype": "text/x-python",
   "name": "python",
   "nbconvert_exporter": "python",
   "pygments_lexer": "ipython3",
   "version": "3.6.5"
  }
 },
 "nbformat": 4,
 "nbformat_minor": 2
}
