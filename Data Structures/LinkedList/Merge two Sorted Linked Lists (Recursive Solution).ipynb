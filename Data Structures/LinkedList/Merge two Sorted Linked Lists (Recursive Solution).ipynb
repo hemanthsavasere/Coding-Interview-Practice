{
 "cells": [
  {
   "cell_type": "code",
   "execution_count": 19,
   "metadata": {},
   "outputs": [
    {
     "name": "stdout",
     "output_type": "stream",
     "text": [
      "10 20 30 40 \n",
      "15 23 34 45 \n",
      "10 15 20 23 30 34 40 45 \n"
     ]
    }
   ],
   "source": [
    "class Node(object):\n",
    "    def __init__(self, val):\n",
    "        self.data = val\n",
    "        self.next = None\n",
    "\n",
    "class LinkedList():\n",
    "    def __init__(self):\n",
    "        self.head = None\n",
    "\n",
    "    def traverse(self):\n",
    "        temp = self.head\n",
    "        while temp:\n",
    "            print(temp.data, end = \" \")\n",
    "            temp = temp.next\n",
    "        print()\n",
    "        \n",
    "def merge(list1, list2):\n",
    "    try:\n",
    "        temp1 = list1.head\n",
    "    except:\n",
    "        temp1 = list1\n",
    "        \n",
    "    try:\n",
    "        temp2 = list2.head\n",
    "    except:\n",
    "        temp2 = list2\n",
    "    \n",
    "    if not temp1:\n",
    "        return temp2\n",
    "    \n",
    "    elif not temp2:\n",
    "        return temp3\n",
    "    \n",
    "    else:\n",
    "        if temp1.data <= temp2.data:\n",
    "            temp3 = Node(temp1.data)\n",
    "            temp3.next = merge(temp1.next, temp2)\n",
    "                \n",
    "        else:\n",
    "            temp3 = Node(temp2.data)\n",
    "            temp3.next = merge(temp1, temp2.next)\n",
    "    \n",
    "    return temp3\n",
    "            \n",
    "            \n",
    "l1 = LinkedList()\n",
    "l2 = LinkedList()\n",
    "\n",
    "n1 = Node(10)\n",
    "n2 = Node(20)\n",
    "n3 = Node(30)\n",
    "n4 = Node(40)\n",
    "\n",
    "l1.head = n1\n",
    "n1.next = n2\n",
    "n2.next = n3\n",
    "n3.next = n4\n",
    "\n",
    "k1 = Node(15)\n",
    "k2 = Node(23)\n",
    "k3 = Node(34)\n",
    "k4 = Node(45)\n",
    "\n",
    "l2.head = k1\n",
    "k1.next = k2\n",
    "k2.next = k3\n",
    "k3.next = k4\n",
    "\n",
    "l1.traverse()\n",
    "l2.traverse()\n",
    "\n",
    "new = LinkedList()\n",
    "new.head = merge(l1, l2)\n",
    "new.traverse()\n"
   ]
  },
  {
   "cell_type": "code",
   "execution_count": null,
   "metadata": {},
   "outputs": [],
   "source": []
  }
 ],
 "metadata": {
  "kernelspec": {
   "display_name": "Python 3",
   "language": "python",
   "name": "python3"
  },
  "language_info": {
   "codemirror_mode": {
    "name": "ipython",
    "version": 3
   },
   "file_extension": ".py",
   "mimetype": "text/x-python",
   "name": "python",
   "nbconvert_exporter": "python",
   "pygments_lexer": "ipython3",
   "version": "3.6.5"
  }
 },
 "nbformat": 4,
 "nbformat_minor": 2
}
