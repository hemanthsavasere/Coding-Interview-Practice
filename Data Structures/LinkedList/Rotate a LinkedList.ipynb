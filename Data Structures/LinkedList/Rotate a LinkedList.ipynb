{
 "cells": [
  {
   "cell_type": "code",
   "execution_count": 7,
   "metadata": {},
   "outputs": [
    {
     "name": "stdout",
     "output_type": "stream",
     "text": [
      "1 2 3 6 \n",
      "6 1 2 3 \n"
     ]
    }
   ],
   "source": [
    "class Node(object):\n",
    "    def __init__(self, val):\n",
    "        self.data = val\n",
    "        self.next = None\n",
    "\n",
    "class LinkedList(object):\n",
    "    def __init__(self):\n",
    "        self.head = None\n",
    "    \n",
    "    def get_head(self):\n",
    "        return self.head.data\n",
    " \n",
    "    def traverse(self):\n",
    "        temp = self.head\n",
    "        while temp:\n",
    "            print (temp.data, end = \" \")\n",
    "            temp = temp.next\n",
    "        print()\n",
    "\n",
    "    def rotateList(self, k):\n",
    "        curr = self.head\n",
    "        cnt = 0\n",
    "        while curr:\n",
    "            cnt += 1\n",
    "            curr = curr.next\n",
    "        k = k % cnt\n",
    "        n = 0\n",
    "        while n < k:\n",
    "            curr = self.head\n",
    "            while curr.next != None:\n",
    "                curr = curr.next\n",
    "            curr.next = self.head\n",
    "            self.head = self.head.next\n",
    "            curr.next.next = None\n",
    "            n += 1\n",
    "            \n",
    "L1 = LinkedList()\n",
    "\n",
    "n1 = Node(1)\n",
    "n2 = Node(2)\n",
    "n3 = Node(3)\n",
    "n4 = Node(6)\n",
    "\n",
    "L1.head = n1\n",
    "n1.next = n2\n",
    "n2.next = n3\n",
    "n3.next = n4\n",
    "\n",
    "L1.traverse()\n",
    "L1.rotateList(11)\n",
    "L1.traverse()"
   ]
  }
 ],
 "metadata": {
  "kernelspec": {
   "display_name": "Python 3",
   "language": "python",
   "name": "python3"
  },
  "language_info": {
   "codemirror_mode": {
    "name": "ipython",
    "version": 3
   },
   "file_extension": ".py",
   "mimetype": "text/x-python",
   "name": "python",
   "nbconvert_exporter": "python",
   "pygments_lexer": "ipython3",
   "version": "3.6.5"
  }
 },
 "nbformat": 4,
 "nbformat_minor": 2
}
