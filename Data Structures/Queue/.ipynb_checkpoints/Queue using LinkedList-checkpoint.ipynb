{
 "cells": [
  {
   "cell_type": "code",
   "execution_count": 6,
   "metadata": {},
   "outputs": [
    {
     "name": "stdout",
     "output_type": "stream",
     "text": [
      "1 2 3 4 \n",
      "3 4 \n"
     ]
    }
   ],
   "source": [
    "class Node(object):\n",
    "    def __init__(self, val):\n",
    "        self.data = val\n",
    "        self.next = None\n",
    "        \n",
    "class Queue(object):\n",
    "    def __init__(self):\n",
    "        self.head = None\n",
    "    \n",
    "    def enqueue(self, val):\n",
    "        if self.head == None:\n",
    "            self.head = Node(val)\n",
    "        \n",
    "        else:\n",
    "            temp = self.head\n",
    "            while temp.next:\n",
    "                temp = temp.next\n",
    "            temp.next =  Node(val)\n",
    "    \n",
    "    def dequeue(self):\n",
    "        self.head = self.head.next\n",
    "        \n",
    "    def traverse(self):\n",
    "        temp = self.head\n",
    "        while temp:\n",
    "            print(temp.data, end = \" \")\n",
    "            temp = temp.next\n",
    "        print()\n",
    "            \n",
    "que1 = Queue()\n",
    "que1.enqueue(1)\n",
    "que1.enqueue(2)\n",
    "que1.enqueue(3)\n",
    "que1.enqueue(4)\n",
    "que1.traverse()\n",
    "que1.dequeue()\n",
    "que1.dequeue()\n",
    "que1.traverse()"
   ]
  }
 ],
 "metadata": {
  "kernelspec": {
   "display_name": "Python 3",
   "language": "python",
   "name": "python3"
  },
  "language_info": {
   "codemirror_mode": {
    "name": "ipython",
    "version": 3
   },
   "file_extension": ".py",
   "mimetype": "text/x-python",
   "name": "python",
   "nbconvert_exporter": "python",
   "pygments_lexer": "ipython3",
   "version": "3.6.5"
  }
 },
 "nbformat": 4,
 "nbformat_minor": 2
}
