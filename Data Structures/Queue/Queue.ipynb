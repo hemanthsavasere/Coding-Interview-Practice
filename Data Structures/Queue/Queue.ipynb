{
 "cells": [
  {
   "cell_type": "code",
   "execution_count": 23,
   "metadata": {},
   "outputs": [],
   "source": [
    "class Queue(object):\n",
    "    def __init__(self):\n",
    "        self.arr = []\n",
    "    \n",
    "    def enqueue(self,val):\n",
    "        self.arr.append(val)\n",
    "    \n",
    "    def dequeue(self):\n",
    "        if len(self.arr) == 0:\n",
    "            print(\"Queue is empty, cannot remove elements when empty\")\n",
    "            return \n",
    "        self.arr.pop(0)\n",
    "    \n",
    "    def isempty(self):\n",
    "        return not self.arr\n",
    "\n",
    "    \n",
    "que1 = Queue()\n",
    "que1.enqueue(0)\n",
    "que1.enqueue(1)\n",
    "que1.enqueue(2)\n",
    "que1.enqueue(3)\n",
    "que1.enqueue(4)\n",
    "que1.dequeue()\n",
    "que1.dequeue()\n"
   ]
  }
 ],
 "metadata": {
  "kernelspec": {
   "display_name": "Python 3",
   "language": "python",
   "name": "python3"
  },
  "language_info": {
   "codemirror_mode": {
    "name": "ipython",
    "version": 3
   },
   "file_extension": ".py",
   "mimetype": "text/x-python",
   "name": "python",
   "nbconvert_exporter": "python",
   "pygments_lexer": "ipython3",
   "version": "3.6.5"
  }
 },
 "nbformat": 4,
 "nbformat_minor": 2
}
