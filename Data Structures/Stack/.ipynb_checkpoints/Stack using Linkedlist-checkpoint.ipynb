{
 "cells": [
  {
   "cell_type": "code",
   "execution_count": 61,
   "metadata": {},
   "outputs": [
    {
     "name": "stdout",
     "output_type": "stream",
     "text": [
      "top element of stack is 4\n",
      "4\n",
      "top element of stack is 3\n"
     ]
    }
   ],
   "source": [
    "class Node(object):\n",
    "    def __init__(self, val):\n",
    "        self. data = val\n",
    "        self.next = None\n",
    "\n",
    "class Stack(object):\n",
    "    def __init__(self):\n",
    "        self.root = None\n",
    "    \n",
    "    def isEmpty(self):\n",
    "        return self.root == None\n",
    "    \n",
    "    def push(self, item):\n",
    "        if not self.isEmpty:\n",
    "            new_node = Node(item)\n",
    "            self.root = new_node\n",
    "        \n",
    "        else:\n",
    "            new_node = Node(item)\n",
    "            new_node.next = self.root\n",
    "            self.root = new_node\n",
    "    \n",
    "    def peek(self):\n",
    "        return \"top element of stack is \" + str(self.root.data)\n",
    "    \n",
    "    def pop(self):\n",
    "        temp = self.root.data\n",
    "        self.root = self.root.next\n",
    "        return temp\n",
    "\n",
    "\n",
    "s1 = Stack()\n",
    "s1.push(1)\n",
    "s1.push(2)\n",
    "s1.push(3)\n",
    "s1.push(4)\n",
    "print(s1.peek())\n",
    "print(s1.pop())\n",
    "print(s1.peek())"
   ]
  }
 ],
 "metadata": {
  "kernelspec": {
   "display_name": "Python 3",
   "language": "python",
   "name": "python3"
  },
  "language_info": {
   "codemirror_mode": {
    "name": "ipython",
    "version": 3
   },
   "file_extension": ".py",
   "mimetype": "text/x-python",
   "name": "python",
   "nbconvert_exporter": "python",
   "pygments_lexer": "ipython3",
   "version": "3.6.5"
  }
 },
 "nbformat": 4,
 "nbformat_minor": 2
}
