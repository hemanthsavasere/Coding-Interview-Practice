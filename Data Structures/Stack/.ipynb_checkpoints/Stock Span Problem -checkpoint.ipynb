{
 "cells": [
  {
   "cell_type": "code",
   "execution_count": 10,
   "metadata": {},
   "outputs": [
    {
     "name": "stdout",
     "output_type": "stream",
     "text": [
      "100 80 60 70 60 75 85\n",
      "[1, 1, 1, 2, 1, 4, 6]\n"
     ]
    }
   ],
   "source": [
    "class stack(object):\n",
    "    def __init__(self):\n",
    "        self.arr = []\n",
    "        \n",
    "    def get_head(self):\n",
    "        return self.arr[0]\n",
    "    \n",
    "    def push(self, item):\n",
    "        self.arr.insert(0, item)\n",
    "        \n",
    "    def isempty(self):\n",
    "        if not self.arr:\n",
    "            return True\n",
    "        else:\n",
    "            return False\n",
    "    \n",
    "    def pop(self):\n",
    "        if self.isempty():\n",
    "            print(\"Empty\")\n",
    "            exit(1)\n",
    "        else:\n",
    "            return self.arr.pop(0)\n",
    "    \n",
    "def stock_span(arr, s):\n",
    "    st = stack()\n",
    "    st.push(0)\n",
    "    s[0] = 1\n",
    "    \n",
    "    for i in range(1, len(arr)):\n",
    "        while(not st.isempty() and arr[st.get_head()] < arr[i]):\n",
    "            st.pop()\n",
    "        \n",
    "        if st.isempty():\n",
    "            s[i] = i+1\n",
    "        else:\n",
    "            s[i] = i-st.get_head()\n",
    "        \n",
    "        st.push(i)\n",
    "    \n",
    "    return S\n",
    "    \n",
    "arr = list(map(int, input().split()))\n",
    "S = [0]*len(arr)\n",
    "S = stock_span(arr, S)\n",
    "print(S)"
   ]
  }
 ],
 "metadata": {
  "kernelspec": {
   "display_name": "Python 3",
   "language": "python",
   "name": "python3"
  },
  "language_info": {
   "codemirror_mode": {
    "name": "ipython",
    "version": 3
   },
   "file_extension": ".py",
   "mimetype": "text/x-python",
   "name": "python",
   "nbconvert_exporter": "python",
   "pygments_lexer": "ipython3",
   "version": "3.6.5"
  }
 },
 "nbformat": 4,
 "nbformat_minor": 2
}
