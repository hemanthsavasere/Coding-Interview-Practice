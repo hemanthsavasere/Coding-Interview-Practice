{
 "cells": [
  {
   "cell_type": "code",
   "execution_count": 2,
   "metadata": {},
   "outputs": [
    {
     "name": "stdout",
     "output_type": "stream",
     "text": [
      "2\n",
      "[{]}\n",
      "not balanced\n",
      "[{}]\n",
      "balanced\n"
     ]
    }
   ],
   "source": [
    "for _ in range(int(input())):\n",
    "    brackets = input()\n",
    "    flag = 1\n",
    "    arr = []\n",
    "    for i in  brackets:\n",
    "        if i in \"([{\":\n",
    "            arr.insert(0, i)\n",
    "        elif i in \")]}\":\n",
    "            if arr:\n",
    "                k = arr.pop(0)\n",
    "                if (i == \"]\" and k != \"[\") or (i == \")\" and k != \"(\") or (i == \"}\" and k != \"{\"):\n",
    "                    flag = 0\n",
    "                    break\n",
    "            else:\n",
    "                flag = 0\n",
    "                break\n",
    "            \n",
    "       \n",
    "        \n",
    "    if not arr and flag:\n",
    "        print(\"balanced\")\n",
    "        \n",
    "    else:\n",
    "        print(\"not balanced\")\n",
    "            \n",
    "       "
   ]
  }
 ],
 "metadata": {
  "kernelspec": {
   "display_name": "Python 3",
   "language": "python",
   "name": "python3"
  },
  "language_info": {
   "codemirror_mode": {
    "name": "ipython",
    "version": 3
   },
   "file_extension": ".py",
   "mimetype": "text/x-python",
   "name": "python",
   "nbconvert_exporter": "python",
   "pygments_lexer": "ipython3",
   "version": "3.6.5"
  }
 },
 "nbformat": 4,
 "nbformat_minor": 2
}
