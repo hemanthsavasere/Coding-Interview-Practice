{
 "cells": [
  {
   "cell_type": "code",
   "execution_count": null,
   "metadata": {},
   "outputs": [],
   "source": [
    "n = int(input())\n",
    "    stack , brr = [], []\n",
    "    arr = list(map(int, input().split()))\n",
    "    for i in arr:\n",
    "        stack.insert(0, i)\n",
    "    for i in arr:\n",
    "        temp = list(stack)\n",
    "        maxi = -1\n",
    "        while temp[0] != i:\n",
    "            k = temp.pop(0)\n",
    "            if i < k:\n",
    "                maxi = k\n",
    "        brr.append(maxi)    \n",
    "    for i in brr:\n",
    "        print(i, end = \" \")\n",
    "    print()"
   ]
  }
 ],
 "metadata": {
  "kernelspec": {
   "display_name": "Python 3",
   "language": "python",
   "name": "python3"
  },
  "language_info": {
   "codemirror_mode": {
    "name": "ipython",
    "version": 3
   },
   "file_extension": ".py",
   "mimetype": "text/x-python",
   "name": "python",
   "nbconvert_exporter": "python",
   "pygments_lexer": "ipython3",
   "version": "3.6.5"
  }
 },
 "nbformat": 4,
 "nbformat_minor": 2
}
