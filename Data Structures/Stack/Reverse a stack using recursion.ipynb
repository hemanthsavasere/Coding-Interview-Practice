{
 "cells": [
  {
   "cell_type": "code",
   "execution_count": 23,
   "metadata": {},
   "outputs": [
    {
     "name": "stdout",
     "output_type": "stream",
     "text": [
      "1\n",
      "2\n",
      "3\n",
      "4\n"
     ]
    }
   ],
   "source": [
    "class stack(object):\n",
    "    def __init__(self):\n",
    "        self.arr = []\n",
    "    \n",
    "    def push(self, item):\n",
    "        self.arr.insert(0, item)\n",
    "        \n",
    "    def isempty(self):\n",
    "        if not self.arr:\n",
    "            return True\n",
    "        else:\n",
    "            return False\n",
    "    \n",
    "    def pop(self):\n",
    "        if self.isempty():\n",
    "            print(\"Empty\")\n",
    "            exit(1)\n",
    "        else:\n",
    "            return self.arr.pop(0)\n",
    "            \n",
    "        \n",
    "    def insert_at_bottom(self, item):\n",
    "        if not self.arr:\n",
    "            self.push(item)\n",
    "        else:\n",
    "            temp = self.pop()\n",
    "            self.insert_at_bottom(item)\n",
    "            self.push(temp)\n",
    "            \n",
    "    def reverse(self):\n",
    "        if self.arr:\n",
    "            temp = self.pop()\n",
    "            self.reverse()\n",
    "            self.insert_at_bottom(temp)\n",
    "            \n",
    "            \n",
    "            \n",
    "s1 = stack()\n",
    "s1.push(1)\n",
    "s1.push(2)\n",
    "s1.push(3)\n",
    "s1.push(4)\n",
    "\n",
    "s1.reverse()\n",
    "\n",
    "while not s1.isempty():\n",
    "    print(s1.pop())"
   ]
  }
 ],
 "metadata": {
  "kernelspec": {
   "display_name": "Python 3",
   "language": "python",
   "name": "python3"
  },
  "language_info": {
   "codemirror_mode": {
    "name": "ipython",
    "version": 3
   },
   "file_extension": ".py",
   "mimetype": "text/x-python",
   "name": "python",
   "nbconvert_exporter": "python",
   "pygments_lexer": "ipython3",
   "version": "3.6.5"
  }
 },
 "nbformat": 4,
 "nbformat_minor": 2
}
